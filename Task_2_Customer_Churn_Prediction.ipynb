{
  "nbformat": 4,
  "nbformat_minor": 0,
  "metadata": {
    "colab": {
      "private_outputs": true,
      "provenance": [],
      "authorship_tag": "ABX9TyM5SMDG8i/+hQMT2mcZz++J",
      "include_colab_link": true
    },
    "kernelspec": {
      "name": "python3",
      "display_name": "Python 3"
    },
    "language_info": {
      "name": "python"
    }
  },
  "cells": [
    {
      "cell_type": "markdown",
      "metadata": {
        "id": "view-in-github",
        "colab_type": "text"
      },
      "source": [
        "<a href=\"https://colab.research.google.com/github/Rahul6158/CODSOFT/blob/main/Task_2_Customer_Churn_Prediction.ipynb\" target=\"_parent\"><img src=\"https://colab.research.google.com/assets/colab-badge.svg\" alt=\"Open In Colab\"/></a>"
      ]
    },
    {
      "cell_type": "markdown",
      "source": [
        "# Customer_Churn_Predictio"
      ],
      "metadata": {
        "id": "p2xDwWO9lM4a"
      }
    },
    {
      "cell_type": "markdown",
      "source": [
        "[Dataset](https://www.kaggle.com/datasets/shantanudhakadd/bank-customer-churn-prediction)"
      ],
      "metadata": {
        "id": "3wjkmX88lEC0"
      }
    },
    {
      "cell_type": "code",
      "execution_count": null,
      "metadata": {
        "id": "_7CXoFcYkmEG"
      },
      "outputs": [],
      "source": [
        "import pandas as pd\n",
        "import numpy as np\n",
        "import matplotlib.pyplot as plt\n",
        "import seaborn as sns\n"
      ]
    },
    {
      "cell_type": "code",
      "source": [
        "df = pd.read_csv(\"Churn_Modelling.csv\")"
      ],
      "metadata": {
        "id": "U862UHYbk27-"
      },
      "execution_count": null,
      "outputs": []
    },
    {
      "cell_type": "code",
      "source": [
        "# View first five columns:\n",
        "df.head()"
      ],
      "metadata": {
        "id": "VIfaI81bk2_T"
      },
      "execution_count": null,
      "outputs": []
    },
    {
      "cell_type": "code",
      "source": [
        "# Checking null values:\n",
        "df.isnull().sum()"
      ],
      "metadata": {
        "id": "LG6QVBLUk3CH"
      },
      "execution_count": null,
      "outputs": []
    },
    {
      "cell_type": "code",
      "source": [
        "# Checking duplicate values:\n",
        "df.duplicated().sum()"
      ],
      "metadata": {
        "id": "BXTdV4Blk3FI"
      },
      "execution_count": null,
      "outputs": []
    },
    {
      "cell_type": "code",
      "source": [
        "# Dropping duplicates:\n",
        "df.drop_duplicates(inplace=True)"
      ],
      "metadata": {
        "id": "CGKAPhKyk3G8"
      },
      "execution_count": null,
      "outputs": []
    },
    {
      "cell_type": "code",
      "source": [
        "# Checking shape of dataframe:\n",
        "df.shape"
      ],
      "metadata": {
        "id": "iS1Z0oc8k3Ic"
      },
      "execution_count": null,
      "outputs": []
    },
    {
      "cell_type": "code",
      "source": [
        "# Checking descriptive nature of dataset:\n",
        "df.describe()"
      ],
      "metadata": {
        "id": "J4gh4QuZk3K9"
      },
      "execution_count": null,
      "outputs": []
    },
    {
      "cell_type": "code",
      "source": [
        "# Create the count plot\n",
        "sns.countplot(data=df, x='Exited')\n",
        "\n",
        "# Adding labels and a title\n",
        "plt.xlabel(\"Exited\")\n",
        "plt.ylabel(\"Count\")\n",
        "plt.title(\"Count of Exited vs Non-Exited Custmoers\")\n",
        "\n",
        "# Show the plot\n",
        "plt.show()"
      ],
      "metadata": {
        "id": "j7E4ZiLYk3N3"
      },
      "execution_count": null,
      "outputs": []
    },
    {
      "cell_type": "code",
      "source": [
        "df['Exited'].value_counts()"
      ],
      "metadata": {
        "id": "67bb7Hfek3Px"
      },
      "execution_count": null,
      "outputs": []
    },
    {
      "cell_type": "code",
      "source": [
        "sns.countplot(x='Gender',hue='Exited',data=df)"
      ],
      "metadata": {
        "id": "_MyFHj7Bk3RN"
      },
      "execution_count": null,
      "outputs": []
    },
    {
      "cell_type": "code",
      "source": [
        "sns.countplot(x='Geography',hue='Exited',data=df)"
      ],
      "metadata": {
        "id": "q5F-WH_Bk3TA"
      },
      "execution_count": null,
      "outputs": []
    },
    {
      "cell_type": "code",
      "source": [
        "# Dropping unnecessary columns:\n",
        "df = df.drop(['CustomerId', 'RowNumber'],axis=1)"
      ],
      "metadata": {
        "id": "VYqk_3qCk3VX"
      },
      "execution_count": null,
      "outputs": []
    },
    {
      "cell_type": "code",
      "source": [
        "#checking shape of dataframe again:\n",
        "df.shape"
      ],
      "metadata": {
        "id": "dOzQOmhpk3XI"
      },
      "execution_count": null,
      "outputs": []
    },
    {
      "cell_type": "code",
      "source": [
        "from sklearn.preprocessing import LabelEncoder\n",
        "le = LabelEncoder()"
      ],
      "metadata": {
        "id": "KlhknWxXk3Yb"
      },
      "execution_count": null,
      "outputs": []
    },
    {
      "cell_type": "code",
      "source": [
        "for column in df.columns:\n",
        "    if df[column].dtype==np.number:\n",
        "        continue\n",
        "    df[column]=le.fit_transform(df[column])"
      ],
      "metadata": {
        "id": "A63KS9Yyk3as"
      },
      "execution_count": null,
      "outputs": []
    },
    {
      "cell_type": "code",
      "source": [
        "df.head()"
      ],
      "metadata": {
        "id": "Wcr0rwPrk3g7"
      },
      "execution_count": null,
      "outputs": []
    },
    {
      "cell_type": "code",
      "source": [
        "# Separating Input and output features:\n",
        "x = df.drop('Exited',axis=1)\n",
        "y = df.Exited"
      ],
      "metadata": {
        "id": "n5RbJjKyk3kK"
      },
      "execution_count": null,
      "outputs": []
    },
    {
      "cell_type": "code",
      "source": [
        "x.head()"
      ],
      "metadata": {
        "id": "zHAGEhnjm5rQ"
      },
      "execution_count": null,
      "outputs": []
    },
    {
      "cell_type": "code",
      "source": [
        "y.head()"
      ],
      "metadata": {
        "id": "WsYEXRFGm5oP"
      },
      "execution_count": null,
      "outputs": []
    },
    {
      "cell_type": "code",
      "source": [
        "from sklearn.preprocessing import StandardScaler\n",
        "ss = StandardScaler()"
      ],
      "metadata": {
        "id": "YSjx_7THm5lP"
      },
      "execution_count": null,
      "outputs": []
    },
    {
      "cell_type": "code",
      "source": [
        "x_feature = ss.fit_transform(x)\n",
        "x_feature[0]"
      ],
      "metadata": {
        "id": "4wKAiZtym5id"
      },
      "execution_count": null,
      "outputs": []
    },
    {
      "cell_type": "code",
      "source": [
        "from sklearn.model_selection import train_test_split\n",
        "xtrain,xtest,ytrain,ytest=train_test_split(x_feature,y,test_size=0.2,random_state=42)\n",
        "xtrain.shape"
      ],
      "metadata": {
        "id": "nfgKznuPm5fX"
      },
      "execution_count": null,
      "outputs": []
    },
    {
      "cell_type": "code",
      "source": [
        "from sklearn.linear_model import LogisticRegression\n",
        "lr = LogisticRegression()\n",
        "lr.fit(xtrain,ytrain)\n",
        "predict = lr.predict(xtest)"
      ],
      "metadata": {
        "id": "ToC4EAwum5cj"
      },
      "execution_count": null,
      "outputs": []
    },
    {
      "cell_type": "code",
      "source": [
        "# Predicting customer churn:\n",
        "for i in predict[0:15]:\n",
        "    if i == 0:\n",
        "        print(\"Customer Will Not Churn\")\n",
        "    else:\n",
        "        print(\"Customer Will Churn\")"
      ],
      "metadata": {
        "id": "0d7POJBjm5aB"
      },
      "execution_count": null,
      "outputs": []
    },
    {
      "cell_type": "code",
      "source": [
        "print(lr.score(xtest,ytest)*100, '%')"
      ],
      "metadata": {
        "id": "LFMrJgOJm5Wl"
      },
      "execution_count": null,
      "outputs": []
    },
    {
      "cell_type": "code",
      "source": [
        "from sklearn.metrics import accuracy_score\n",
        "#accuracy score\n",
        "accuracy_score(ytest,predict)"
      ],
      "metadata": {
        "id": "tTtuwmGlnLJB"
      },
      "execution_count": null,
      "outputs": []
    },
    {
      "cell_type": "code",
      "source": [
        "from sklearn.metrics import confusion_matrix"
      ],
      "metadata": {
        "id": "A2hnDjQQnLGS"
      },
      "execution_count": null,
      "outputs": []
    },
    {
      "cell_type": "code",
      "source": [
        "Cm = confusion_matrix(ytest,predict)\n",
        "ax = plt.axes()\n",
        "sns.heatmap(Cm, annot=True,\n",
        "           annot_kws={'size':10},\n",
        "           #xticklabels=labels,\n",
        "           #yticklabels=labels,\n",
        "            ax=ax\n",
        "           )\n",
        "\n",
        "plt.title(\"Confusion Metrics\")\n",
        "plt.show()"
      ],
      "metadata": {
        "id": "OckzxqAVnLDi"
      },
      "execution_count": null,
      "outputs": []
    },
    {
      "cell_type": "code",
      "source": [
        "# Classification Report:\n",
        "from sklearn.metrics import classification_report\n",
        "print(classification_report(ytest,predict))"
      ],
      "metadata": {
        "id": "4ht69nrHnLAd"
      },
      "execution_count": null,
      "outputs": []
    }
  ]
}