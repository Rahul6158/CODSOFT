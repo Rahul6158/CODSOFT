{
  "nbformat": 4,
  "nbformat_minor": 0,
  "metadata": {
    "colab": {
      "private_outputs": true,
      "provenance": [],
      "authorship_tag": "ABX9TyNh61Lb339sSUsRS5YJzg+J",
      "include_colab_link": true
    },
    "kernelspec": {
      "name": "python3",
      "display_name": "Python 3"
    },
    "language_info": {
      "name": "python"
    }
  },
  "cells": [
    {
      "cell_type": "markdown",
      "metadata": {
        "id": "view-in-github",
        "colab_type": "text"
      },
      "source": [
        "<a href=\"https://colab.research.google.com/github/Rahul6158/CODSOFT/blob/main/Task_3_Spam_SMS_Detection.ipynb\" target=\"_parent\"><img src=\"https://colab.research.google.com/assets/colab-badge.svg\" alt=\"Open In Colab\"/></a>"
      ]
    },
    {
      "cell_type": "markdown",
      "source": [
        "# Spam_SMS_Detection"
      ],
      "metadata": {
        "id": "CiUY8D3Yiilc"
      }
    },
    {
      "cell_type": "markdown",
      "source": [
        "[Dataset](https://www.kaggle.com/datasets/uciml/sms-spam-collection-dataset)"
      ],
      "metadata": {
        "id": "QbsA7VJpivLg"
      }
    },
    {
      "cell_type": "code",
      "execution_count": null,
      "metadata": {
        "id": "uoCN5OF0euNj"
      },
      "outputs": [],
      "source": [
        "import pandas as pd\n",
        "import numpy as np\n",
        "import seaborn as sns\n",
        "import matplotlib.pyplot as plt\n",
        "\n",
        "from sklearn.model_selection import train_test_split\n",
        "from sklearn.linear_model import LogisticRegression\n",
        "from sklearn.feature_extraction.text import TfidfVectorizer\n",
        "from sklearn.metrics import confusion_matrix,classification_report,accuracy_score,f1_score,recall_score,precision_score\n",
        "import pandas as pd\n",
        "import numpy as np\n",
        "import seaborn as sns\n",
        "import matplotlib.pyplot as plt\n",
        "\n",
        "from sklearn.model_selection import train_test_split\n",
        "from sklearn.linear_model import LogisticRegression\n",
        "from sklearn.feature_extraction.text import TfidfVectorizer\n",
        "from sklearn.metrics import confusion_matrix,classification_report,accuracy_score,f1_score,recall_score,precision_score"
      ]
    },
    {
      "cell_type": "code",
      "source": [
        "# Load dataset:\n",
        "df = pd.read_csv(\"spam.csv\", encoding=\"latin1\")\n",
        "df.head()"
      ],
      "metadata": {
        "id": "DRqnaFDpfhfW"
      },
      "execution_count": null,
      "outputs": []
    },
    {
      "cell_type": "code",
      "source": [
        "# Check columns in dataframe:\n",
        "df.columns"
      ],
      "metadata": {
        "id": "xRFgxpjDfhnv"
      },
      "execution_count": null,
      "outputs": []
    },
    {
      "cell_type": "code",
      "source": [
        "df.info"
      ],
      "metadata": {
        "id": "p0PE03uYfhsD"
      },
      "execution_count": null,
      "outputs": []
    },
    {
      "cell_type": "code",
      "source": [
        "print('Number of Rows:',df.shape[0])\n",
        "print('Number of Columns:',df.shape[1])"
      ],
      "metadata": {
        "id": "J7llZa3cfhu7"
      },
      "execution_count": null,
      "outputs": []
    },
    {
      "cell_type": "code",
      "source": [
        "df.isnull().mean()*100"
      ],
      "metadata": {
        "id": "U3Ybb_9tfhw1"
      },
      "execution_count": null,
      "outputs": []
    },
    {
      "cell_type": "code",
      "source": [
        "# Dropping useless columns:\n",
        "df.drop(columns=df[['Unnamed: 2','Unnamed: 3','Unnamed: 4']],axis=1,inplace=True)"
      ],
      "metadata": {
        "id": "M8oaumwdfhyc"
      },
      "execution_count": null,
      "outputs": []
    },
    {
      "cell_type": "code",
      "source": [
        "# Checking dataset again:\n",
        "df.head()"
      ],
      "metadata": {
        "id": "6nHtud0pfh0W"
      },
      "execution_count": null,
      "outputs": []
    },
    {
      "cell_type": "code",
      "source": [
        "# Checking shape of dataframe:\n",
        "df.shape"
      ],
      "metadata": {
        "id": "Y2i6KkDFfh1-"
      },
      "execution_count": null,
      "outputs": []
    },
    {
      "cell_type": "code",
      "source": [
        "# Rename columns names for easy to understand, we can also use df.rename\n",
        "df.columns=['spam/ham','sms']"
      ],
      "metadata": {
        "id": "7TI2_5kIfh5A"
      },
      "execution_count": null,
      "outputs": []
    },
    {
      "cell_type": "code",
      "source": [
        "# Convert the text data into numerical form\n",
        "df.loc[df['spam/ham'] == 'spam', 'spam/ham',] = 0\n",
        "df.loc[df['spam/ham'] == 'ham', 'spam/ham',] = 1"
      ],
      "metadata": {
        "id": "QWcihYtEfh8E"
      },
      "execution_count": null,
      "outputs": []
    },
    {
      "cell_type": "code",
      "source": [
        "# Checking first five rows:\n",
        "df.head()"
      ],
      "metadata": {
        "id": "DNIS9-jMfh95"
      },
      "execution_count": null,
      "outputs": []
    },
    {
      "cell_type": "code",
      "source": [
        "x = df.sms\n",
        "x.head()"
      ],
      "metadata": {
        "id": "nbsCMj5ufh_e"
      },
      "execution_count": null,
      "outputs": []
    },
    {
      "cell_type": "code",
      "source": [
        "y = df['spam/ham']\n",
        "y.head()"
      ],
      "metadata": {
        "id": "QvB1EVikfiA_"
      },
      "execution_count": null,
      "outputs": []
    },
    {
      "cell_type": "code",
      "source": [
        "# Divide the whole dataset into training and testing set for model training\n",
        "from sklearn.model_selection import train_test_split\n",
        "xtrain, xtest, ytrain, ytest = train_test_split(x,y,test_size=0.2,random_state=42)\n",
        "# Checking shape of train and test dataset:\n",
        "print(x.shape)\n",
        "print(xtrain.shape)\n",
        "print(xtest.shape)"
      ],
      "metadata": {
        "id": "pJ2XU0RWfiCi"
      },
      "execution_count": null,
      "outputs": []
    },
    {
      "cell_type": "code",
      "source": [
        "xtrain,xtest"
      ],
      "metadata": {
        "id": "d9wxzRtvfiEO"
      },
      "execution_count": null,
      "outputs": []
    },
    {
      "cell_type": "code",
      "source": [
        "ytrain,ytest"
      ],
      "metadata": {
        "id": "tlLCiIw9gviu"
      },
      "execution_count": null,
      "outputs": []
    },
    {
      "cell_type": "code",
      "source": [
        "feat_vect = TfidfVectorizer(min_df=1, stop_words='english', lowercase=True)\n",
        "feat_vect"
      ],
      "metadata": {
        "id": "Zwwul3DkgvhA"
      },
      "execution_count": null,
      "outputs": []
    },
    {
      "cell_type": "code",
      "source": [
        "ytrain = ytrain.astype('int')\n",
        "ytest = ytest.astype('int')"
      ],
      "metadata": {
        "id": "3pTjsz79gvfi"
      },
      "execution_count": null,
      "outputs": []
    },
    {
      "cell_type": "code",
      "source": [
        "xtrain_vec = feat_vect.fit_transform(xtrain)\n",
        "xtest_vec = feat_vect.transform(xtest)\n",
        "print(xtrain)"
      ],
      "metadata": {
        "id": "AEasFxP9gvcn"
      },
      "execution_count": null,
      "outputs": []
    },
    {
      "cell_type": "code",
      "source": [
        "xtrain_vec"
      ],
      "metadata": {
        "id": "2xQzFSFzgvZ7"
      },
      "execution_count": null,
      "outputs": []
    },
    {
      "cell_type": "code",
      "source": [
        "print(xtrain_vec)"
      ],
      "metadata": {
        "id": "CSW4fR0sgvXE"
      },
      "execution_count": null,
      "outputs": []
    },
    {
      "cell_type": "code",
      "source": [
        "print(xtest_vec)"
      ],
      "metadata": {
        "id": "7JRGV7p0gvUU"
      },
      "execution_count": null,
      "outputs": []
    },
    {
      "cell_type": "code",
      "source": [
        "lr = LogisticRegression()\n",
        "lr.fit(xtrain_vec,ytrain)\n",
        "lr.score(xtrain_vec,ytrain)"
      ],
      "metadata": {
        "id": "n8Q3k-ONgvRf"
      },
      "execution_count": null,
      "outputs": []
    },
    {
      "cell_type": "code",
      "source": [
        "lr.score(xtest_vec,ytest)"
      ],
      "metadata": {
        "id": "4-Ir-kDHgvLc"
      },
      "execution_count": null,
      "outputs": []
    },
    {
      "cell_type": "code",
      "source": [
        "pred_lr=lr.predict(xtest_vec)\n",
        "pred_lr"
      ],
      "metadata": {
        "id": "YpUYL8sEgvI9"
      },
      "execution_count": null,
      "outputs": []
    },
    {
      "cell_type": "code",
      "source": [
        "from sklearn.metrics import confusion_matrix,classification_report,accuracy_score"
      ],
      "metadata": {
        "id": "P-yBM2OogvGZ"
      },
      "execution_count": null,
      "outputs": []
    },
    {
      "cell_type": "code",
      "source": [
        "accuracy_score(ytest,pred_lr)"
      ],
      "metadata": {
        "id": "pGVTspYxgvDN"
      },
      "execution_count": null,
      "outputs": []
    },
    {
      "cell_type": "code",
      "source": [
        "confusion_matrix(ytest,pred_lr)"
      ],
      "metadata": {
        "id": "2Vn3W3ElhadP"
      },
      "execution_count": null,
      "outputs": []
    },
    {
      "cell_type": "code",
      "source": [
        "print(classification_report(ytest,pred_lr))"
      ],
      "metadata": {
        "id": "qC_X9cDfhaal"
      },
      "execution_count": null,
      "outputs": []
    }
  ]
}